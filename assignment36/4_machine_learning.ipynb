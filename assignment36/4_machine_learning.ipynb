{
 "cells": [
  {
   "cell_type": "code",
   "execution_count": 4,
   "metadata": {},
   "outputs": [],
   "source": [
    "import numpy as np \n",
    "from scipy import stats"
   ]
  },
  {
   "cell_type": "code",
   "execution_count": 5,
   "metadata": {},
   "outputs": [
    {
     "name": "stdout",
     "output_type": "stream",
     "text": [
      "mean =  89.76923076923077\n",
      "median =  87.0\n",
      "mode =  ModeResult(mode=86, count=3)\n",
      "standard deviation =  9.258292301032677\n"
     ]
    }
   ],
   "source": [
    "list_1 = [99,86,87,88,111,86,103,87,94,78,77,85,86]\n",
    "\n",
    "print('mean = ' , np.mean (list_1))\n",
    "\n",
    "print ('median = ' , np.median (list_1))\n",
    "\n",
    "print ('mode = ' , stats.mode (list_1))\n",
    "\n",
    "print ('standard deviation = ' , np.std (list_1))\n"
   ]
  }
 ],
 "metadata": {
  "kernelspec": {
   "display_name": "Python 3",
   "language": "python",
   "name": "python3"
  },
  "language_info": {
   "codemirror_mode": {
    "name": "ipython",
    "version": 3
   },
   "file_extension": ".py",
   "mimetype": "text/x-python",
   "name": "python",
   "nbconvert_exporter": "python",
   "pygments_lexer": "ipython3",
   "version": "3.10.8"
  }
 },
 "nbformat": 4,
 "nbformat_minor": 2
}
